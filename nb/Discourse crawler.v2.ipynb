{
 "cells": [
  {
   "cell_type": "code",
   "execution_count": 1,
   "id": "fb41a523",
   "metadata": {},
   "outputs": [],
   "source": [
    "%load_ext autoreload\n",
    "\n",
    "%autoreload 2"
   ]
  },
  {
   "cell_type": "code",
   "execution_count": 16,
   "id": "cce36216",
   "metadata": {},
   "outputs": [],
   "source": [
    "import logging\n",
    "logger = logging.getLogger()\n",
    "logger.setLevel(logging.INFO)\n",
    "logging.debug(\"test\")"
   ]
  },
  {
   "cell_type": "code",
   "execution_count": 17,
   "id": "4d0c235d",
   "metadata": {},
   "outputs": [],
   "source": [
    "forums = [[\"https://forum.cientopolis.org\",\"cientopolis.org.db\"],\n",
    "          [\"https://forum.openhardware.science/\", \"openhardware.science.db\"],\n",
    "          [\"https://forum.sensor.community/\",\"sensor.community.db\"],\n",
    "          [\"https://forum.inaturalist.org\",\"inaturalist.org.db\"]]"
   ]
  },
  {
   "cell_type": "code",
   "execution_count": 18,
   "id": "9173ff26",
   "metadata": {},
   "outputs": [],
   "source": [
    "!rm ../db/cientopolis.org.db"
   ]
  },
  {
   "cell_type": "code",
   "execution_count": 19,
   "id": "bdb4ec4d",
   "metadata": {},
   "outputs": [
    {
     "name": "stdout",
     "output_type": "stream",
     "text": [
      "2023-01-12 13:31:22,653 INFO sqlalchemy.engine.Engine BEGIN (implicit)\n"
     ]
    },
    {
     "name": "stderr",
     "output_type": "stream",
     "text": [
      "INFO:sqlalchemy.engine.Engine:BEGIN (implicit)\n"
     ]
    },
    {
     "name": "stdout",
     "output_type": "stream",
     "text": [
      "2023-01-12 13:31:22,654 INFO sqlalchemy.engine.Engine PRAGMA main.table_info(\"forum\")\n"
     ]
    },
    {
     "name": "stderr",
     "output_type": "stream",
     "text": [
      "INFO:sqlalchemy.engine.Engine:PRAGMA main.table_info(\"forum\")\n"
     ]
    },
    {
     "name": "stdout",
     "output_type": "stream",
     "text": [
      "2023-01-12 13:31:22,655 INFO sqlalchemy.engine.Engine [raw sql] ()\n"
     ]
    },
    {
     "name": "stderr",
     "output_type": "stream",
     "text": [
      "INFO:sqlalchemy.engine.Engine:[raw sql] ()\n"
     ]
    },
    {
     "name": "stdout",
     "output_type": "stream",
     "text": [
      "2023-01-12 13:31:22,656 INFO sqlalchemy.engine.Engine PRAGMA temp.table_info(\"forum\")\n"
     ]
    },
    {
     "name": "stderr",
     "output_type": "stream",
     "text": [
      "INFO:sqlalchemy.engine.Engine:PRAGMA temp.table_info(\"forum\")\n"
     ]
    },
    {
     "name": "stdout",
     "output_type": "stream",
     "text": [
      "2023-01-12 13:31:22,657 INFO sqlalchemy.engine.Engine [raw sql] ()\n"
     ]
    },
    {
     "name": "stderr",
     "output_type": "stream",
     "text": [
      "INFO:sqlalchemy.engine.Engine:[raw sql] ()\n"
     ]
    },
    {
     "name": "stdout",
     "output_type": "stream",
     "text": [
      "2023-01-12 13:31:22,657 INFO sqlalchemy.engine.Engine PRAGMA main.table_info(\"user\")\n"
     ]
    },
    {
     "name": "stderr",
     "output_type": "stream",
     "text": [
      "INFO:sqlalchemy.engine.Engine:PRAGMA main.table_info(\"user\")\n"
     ]
    },
    {
     "name": "stdout",
     "output_type": "stream",
     "text": [
      "2023-01-12 13:31:22,658 INFO sqlalchemy.engine.Engine [raw sql] ()\n"
     ]
    },
    {
     "name": "stderr",
     "output_type": "stream",
     "text": [
      "INFO:sqlalchemy.engine.Engine:[raw sql] ()\n"
     ]
    },
    {
     "name": "stdout",
     "output_type": "stream",
     "text": [
      "2023-01-12 13:31:22,658 INFO sqlalchemy.engine.Engine PRAGMA temp.table_info(\"user\")\n"
     ]
    },
    {
     "name": "stderr",
     "output_type": "stream",
     "text": [
      "INFO:sqlalchemy.engine.Engine:PRAGMA temp.table_info(\"user\")\n"
     ]
    },
    {
     "name": "stdout",
     "output_type": "stream",
     "text": [
      "2023-01-12 13:31:22,659 INFO sqlalchemy.engine.Engine [raw sql] ()\n"
     ]
    },
    {
     "name": "stderr",
     "output_type": "stream",
     "text": [
      "INFO:sqlalchemy.engine.Engine:[raw sql] ()\n"
     ]
    },
    {
     "name": "stdout",
     "output_type": "stream",
     "text": [
      "2023-01-12 13:31:22,659 INFO sqlalchemy.engine.Engine PRAGMA main.table_info(\"category\")\n"
     ]
    },
    {
     "name": "stderr",
     "output_type": "stream",
     "text": [
      "INFO:sqlalchemy.engine.Engine:PRAGMA main.table_info(\"category\")\n"
     ]
    },
    {
     "name": "stdout",
     "output_type": "stream",
     "text": [
      "2023-01-12 13:31:22,660 INFO sqlalchemy.engine.Engine [raw sql] ()\n"
     ]
    },
    {
     "name": "stderr",
     "output_type": "stream",
     "text": [
      "INFO:sqlalchemy.engine.Engine:[raw sql] ()\n"
     ]
    },
    {
     "name": "stdout",
     "output_type": "stream",
     "text": [
      "2023-01-12 13:31:22,660 INFO sqlalchemy.engine.Engine PRAGMA temp.table_info(\"category\")\n"
     ]
    },
    {
     "name": "stderr",
     "output_type": "stream",
     "text": [
      "INFO:sqlalchemy.engine.Engine:PRAGMA temp.table_info(\"category\")\n"
     ]
    },
    {
     "name": "stdout",
     "output_type": "stream",
     "text": [
      "2023-01-12 13:31:22,660 INFO sqlalchemy.engine.Engine [raw sql] ()\n"
     ]
    },
    {
     "name": "stderr",
     "output_type": "stream",
     "text": [
      "INFO:sqlalchemy.engine.Engine:[raw sql] ()\n"
     ]
    },
    {
     "name": "stdout",
     "output_type": "stream",
     "text": [
      "2023-01-12 13:31:22,661 INFO sqlalchemy.engine.Engine PRAGMA main.table_info(\"page\")\n"
     ]
    },
    {
     "name": "stderr",
     "output_type": "stream",
     "text": [
      "INFO:sqlalchemy.engine.Engine:PRAGMA main.table_info(\"page\")\n"
     ]
    },
    {
     "name": "stdout",
     "output_type": "stream",
     "text": [
      "2023-01-12 13:31:22,661 INFO sqlalchemy.engine.Engine [raw sql] ()\n"
     ]
    },
    {
     "name": "stderr",
     "output_type": "stream",
     "text": [
      "INFO:sqlalchemy.engine.Engine:[raw sql] ()\n"
     ]
    },
    {
     "name": "stdout",
     "output_type": "stream",
     "text": [
      "2023-01-12 13:31:22,662 INFO sqlalchemy.engine.Engine PRAGMA temp.table_info(\"page\")\n"
     ]
    },
    {
     "name": "stderr",
     "output_type": "stream",
     "text": [
      "INFO:sqlalchemy.engine.Engine:PRAGMA temp.table_info(\"page\")\n"
     ]
    },
    {
     "name": "stdout",
     "output_type": "stream",
     "text": [
      "2023-01-12 13:31:22,662 INFO sqlalchemy.engine.Engine [raw sql] ()\n"
     ]
    },
    {
     "name": "stderr",
     "output_type": "stream",
     "text": [
      "INFO:sqlalchemy.engine.Engine:[raw sql] ()\n"
     ]
    },
    {
     "name": "stdout",
     "output_type": "stream",
     "text": [
      "2023-01-12 13:31:22,663 INFO sqlalchemy.engine.Engine PRAGMA main.table_info(\"topic\")\n"
     ]
    },
    {
     "name": "stderr",
     "output_type": "stream",
     "text": [
      "INFO:sqlalchemy.engine.Engine:PRAGMA main.table_info(\"topic\")\n"
     ]
    },
    {
     "name": "stdout",
     "output_type": "stream",
     "text": [
      "2023-01-12 13:31:22,663 INFO sqlalchemy.engine.Engine [raw sql] ()\n"
     ]
    },
    {
     "name": "stderr",
     "output_type": "stream",
     "text": [
      "INFO:sqlalchemy.engine.Engine:[raw sql] ()\n"
     ]
    },
    {
     "name": "stdout",
     "output_type": "stream",
     "text": [
      "2023-01-12 13:31:22,663 INFO sqlalchemy.engine.Engine PRAGMA temp.table_info(\"topic\")\n"
     ]
    },
    {
     "name": "stderr",
     "output_type": "stream",
     "text": [
      "INFO:sqlalchemy.engine.Engine:PRAGMA temp.table_info(\"topic\")\n"
     ]
    },
    {
     "name": "stdout",
     "output_type": "stream",
     "text": [
      "2023-01-12 13:31:22,664 INFO sqlalchemy.engine.Engine [raw sql] ()\n"
     ]
    },
    {
     "name": "stderr",
     "output_type": "stream",
     "text": [
      "INFO:sqlalchemy.engine.Engine:[raw sql] ()\n"
     ]
    },
    {
     "name": "stdout",
     "output_type": "stream",
     "text": [
      "2023-01-12 13:31:22,664 INFO sqlalchemy.engine.Engine PRAGMA main.table_info(\"post\")\n"
     ]
    },
    {
     "name": "stderr",
     "output_type": "stream",
     "text": [
      "INFO:sqlalchemy.engine.Engine:PRAGMA main.table_info(\"post\")\n"
     ]
    },
    {
     "name": "stdout",
     "output_type": "stream",
     "text": [
      "2023-01-12 13:31:22,665 INFO sqlalchemy.engine.Engine [raw sql] ()\n"
     ]
    },
    {
     "name": "stderr",
     "output_type": "stream",
     "text": [
      "INFO:sqlalchemy.engine.Engine:[raw sql] ()\n"
     ]
    },
    {
     "name": "stdout",
     "output_type": "stream",
     "text": [
      "2023-01-12 13:31:22,665 INFO sqlalchemy.engine.Engine PRAGMA temp.table_info(\"post\")\n"
     ]
    },
    {
     "name": "stderr",
     "output_type": "stream",
     "text": [
      "INFO:sqlalchemy.engine.Engine:PRAGMA temp.table_info(\"post\")\n"
     ]
    },
    {
     "name": "stdout",
     "output_type": "stream",
     "text": [
      "2023-01-12 13:31:22,665 INFO sqlalchemy.engine.Engine [raw sql] ()\n"
     ]
    },
    {
     "name": "stderr",
     "output_type": "stream",
     "text": [
      "INFO:sqlalchemy.engine.Engine:[raw sql] ()\n"
     ]
    },
    {
     "name": "stdout",
     "output_type": "stream",
     "text": [
      "2023-01-12 13:31:22,666 INFO sqlalchemy.engine.Engine \n",
      "CREATE TABLE forum (\n",
      "\tid INTEGER NOT NULL, \n",
      "\turl VARCHAR, \n",
      "\tcategories_crawled BOOLEAN, \n",
      "\tPRIMARY KEY (id)\n",
      ")\n",
      "\n",
      "\n"
     ]
    },
    {
     "name": "stderr",
     "output_type": "stream",
     "text": [
      "INFO:sqlalchemy.engine.Engine:\n",
      "CREATE TABLE forum (\n",
      "\tid INTEGER NOT NULL, \n",
      "\turl VARCHAR, \n",
      "\tcategories_crawled BOOLEAN, \n",
      "\tPRIMARY KEY (id)\n",
      ")\n",
      "\n",
      "\n"
     ]
    },
    {
     "name": "stdout",
     "output_type": "stream",
     "text": [
      "2023-01-12 13:31:22,667 INFO sqlalchemy.engine.Engine [no key 0.00035s] ()\n"
     ]
    },
    {
     "name": "stderr",
     "output_type": "stream",
     "text": [
      "INFO:sqlalchemy.engine.Engine:[no key 0.00035s] ()\n"
     ]
    },
    {
     "name": "stdout",
     "output_type": "stream",
     "text": [
      "2023-01-12 13:31:22,670 INFO sqlalchemy.engine.Engine \n",
      "CREATE TABLE user (\n",
      "\tid INTEGER NOT NULL, \n",
      "\tforum_id INTEGER, \n",
      "\tjson VARCHAR, \n",
      "\tPRIMARY KEY (id), \n",
      "\tFOREIGN KEY(forum_id) REFERENCES forum (id)\n",
      ")\n",
      "\n",
      "\n"
     ]
    },
    {
     "name": "stderr",
     "output_type": "stream",
     "text": [
      "INFO:sqlalchemy.engine.Engine:\n",
      "CREATE TABLE user (\n",
      "\tid INTEGER NOT NULL, \n",
      "\tforum_id INTEGER, \n",
      "\tjson VARCHAR, \n",
      "\tPRIMARY KEY (id), \n",
      "\tFOREIGN KEY(forum_id) REFERENCES forum (id)\n",
      ")\n",
      "\n",
      "\n"
     ]
    },
    {
     "name": "stdout",
     "output_type": "stream",
     "text": [
      "2023-01-12 13:31:22,670 INFO sqlalchemy.engine.Engine [no key 0.00035s] ()\n"
     ]
    },
    {
     "name": "stderr",
     "output_type": "stream",
     "text": [
      "INFO:sqlalchemy.engine.Engine:[no key 0.00035s] ()\n"
     ]
    },
    {
     "name": "stdout",
     "output_type": "stream",
     "text": [
      "2023-01-12 13:31:22,673 INFO sqlalchemy.engine.Engine \n",
      "CREATE TABLE category (\n",
      "\tid INTEGER NOT NULL, \n",
      "\tcategory_id INTEGER, \n",
      "\tforum_id INTEGER, \n",
      "\ttopic_url VARCHAR, \n",
      "\tjson VARCHAR, \n",
      "\tpages_crawled BOOLEAN, \n",
      "\tPRIMARY KEY (id), \n",
      "\tCONSTRAINT alternate_key_cat_forum UNIQUE (category_id, forum_id), \n",
      "\tFOREIGN KEY(forum_id) REFERENCES forum (id)\n",
      ")\n",
      "\n",
      "\n"
     ]
    },
    {
     "name": "stderr",
     "output_type": "stream",
     "text": [
      "INFO:sqlalchemy.engine.Engine:\n",
      "CREATE TABLE category (\n",
      "\tid INTEGER NOT NULL, \n",
      "\tcategory_id INTEGER, \n",
      "\tforum_id INTEGER, \n",
      "\ttopic_url VARCHAR, \n",
      "\tjson VARCHAR, \n",
      "\tpages_crawled BOOLEAN, \n",
      "\tPRIMARY KEY (id), \n",
      "\tCONSTRAINT alternate_key_cat_forum UNIQUE (category_id, forum_id), \n",
      "\tFOREIGN KEY(forum_id) REFERENCES forum (id)\n",
      ")\n",
      "\n",
      "\n"
     ]
    },
    {
     "name": "stdout",
     "output_type": "stream",
     "text": [
      "2023-01-12 13:31:22,674 INFO sqlalchemy.engine.Engine [no key 0.00044s] ()\n"
     ]
    },
    {
     "name": "stderr",
     "output_type": "stream",
     "text": [
      "INFO:sqlalchemy.engine.Engine:[no key 0.00044s] ()\n"
     ]
    },
    {
     "name": "stdout",
     "output_type": "stream",
     "text": [
      "2023-01-12 13:31:22,676 INFO sqlalchemy.engine.Engine \n",
      "CREATE TABLE page (\n",
      "\tid INTEGER NOT NULL, \n",
      "\tpage_id INTEGER, \n",
      "\tcategory_id INTEGER, \n",
      "\tmore_topics_url VARCHAR, \n",
      "\tjson VARCHAR, \n",
      "\tPRIMARY KEY (id), \n",
      "\tCONSTRAINT alternate_key_page_cat UNIQUE (category_id, page_id), \n",
      "\tFOREIGN KEY(category_id) REFERENCES category (id)\n",
      ")\n",
      "\n",
      "\n"
     ]
    },
    {
     "name": "stderr",
     "output_type": "stream",
     "text": [
      "INFO:sqlalchemy.engine.Engine:\n",
      "CREATE TABLE page (\n",
      "\tid INTEGER NOT NULL, \n",
      "\tpage_id INTEGER, \n",
      "\tcategory_id INTEGER, \n",
      "\tmore_topics_url VARCHAR, \n",
      "\tjson VARCHAR, \n",
      "\tPRIMARY KEY (id), \n",
      "\tCONSTRAINT alternate_key_page_cat UNIQUE (category_id, page_id), \n",
      "\tFOREIGN KEY(category_id) REFERENCES category (id)\n",
      ")\n",
      "\n",
      "\n"
     ]
    },
    {
     "name": "stdout",
     "output_type": "stream",
     "text": [
      "2023-01-12 13:31:22,677 INFO sqlalchemy.engine.Engine [no key 0.00034s] ()\n"
     ]
    },
    {
     "name": "stderr",
     "output_type": "stream",
     "text": [
      "INFO:sqlalchemy.engine.Engine:[no key 0.00034s] ()\n"
     ]
    },
    {
     "name": "stdout",
     "output_type": "stream",
     "text": [
      "2023-01-12 13:31:22,679 INFO sqlalchemy.engine.Engine \n",
      "CREATE TABLE topic (\n",
      "\tid INTEGER NOT NULL, \n",
      "\ttopic_id INTEGER, \n",
      "\tcategory_id INTEGER, \n",
      "\tpage_excerpt_json VARCHAR, \n",
      "\ttopic_json VARCHAR, \n",
      "\tposts_crawled BOOLEAN, \n",
      "\tPRIMARY KEY (id), \n",
      "\tCONSTRAINT alternate_key_topic_cat UNIQUE (category_id, topic_id), \n",
      "\tFOREIGN KEY(category_id) REFERENCES category (id)\n",
      ")\n",
      "\n",
      "\n"
     ]
    },
    {
     "name": "stderr",
     "output_type": "stream",
     "text": [
      "INFO:sqlalchemy.engine.Engine:\n",
      "CREATE TABLE topic (\n",
      "\tid INTEGER NOT NULL, \n",
      "\ttopic_id INTEGER, \n",
      "\tcategory_id INTEGER, \n",
      "\tpage_excerpt_json VARCHAR, \n",
      "\ttopic_json VARCHAR, \n",
      "\tposts_crawled BOOLEAN, \n",
      "\tPRIMARY KEY (id), \n",
      "\tCONSTRAINT alternate_key_topic_cat UNIQUE (category_id, topic_id), \n",
      "\tFOREIGN KEY(category_id) REFERENCES category (id)\n",
      ")\n",
      "\n",
      "\n"
     ]
    },
    {
     "name": "stdout",
     "output_type": "stream",
     "text": [
      "2023-01-12 13:31:22,680 INFO sqlalchemy.engine.Engine [no key 0.00032s] ()\n"
     ]
    },
    {
     "name": "stderr",
     "output_type": "stream",
     "text": [
      "INFO:sqlalchemy.engine.Engine:[no key 0.00032s] ()\n"
     ]
    },
    {
     "name": "stdout",
     "output_type": "stream",
     "text": [
      "2023-01-12 13:31:22,682 INFO sqlalchemy.engine.Engine \n",
      "CREATE TABLE post (\n",
      "\tid INTEGER NOT NULL, \n",
      "\tpost_id INTEGER, \n",
      "\ttopic_id INTEGER, \n",
      "\tjson VARCHAR, \n",
      "\tPRIMARY KEY (id), \n",
      "\tCONSTRAINT alternate_key_post_topic UNIQUE (topic_id, post_id), \n",
      "\tFOREIGN KEY(topic_id) REFERENCES topic (id)\n",
      ")\n",
      "\n",
      "\n"
     ]
    },
    {
     "name": "stderr",
     "output_type": "stream",
     "text": [
      "INFO:sqlalchemy.engine.Engine:\n",
      "CREATE TABLE post (\n",
      "\tid INTEGER NOT NULL, \n",
      "\tpost_id INTEGER, \n",
      "\ttopic_id INTEGER, \n",
      "\tjson VARCHAR, \n",
      "\tPRIMARY KEY (id), \n",
      "\tCONSTRAINT alternate_key_post_topic UNIQUE (topic_id, post_id), \n",
      "\tFOREIGN KEY(topic_id) REFERENCES topic (id)\n",
      ")\n",
      "\n",
      "\n"
     ]
    },
    {
     "name": "stdout",
     "output_type": "stream",
     "text": [
      "2023-01-12 13:31:22,683 INFO sqlalchemy.engine.Engine [no key 0.00034s] ()\n"
     ]
    },
    {
     "name": "stderr",
     "output_type": "stream",
     "text": [
      "INFO:sqlalchemy.engine.Engine:[no key 0.00034s] ()\n"
     ]
    },
    {
     "name": "stdout",
     "output_type": "stream",
     "text": [
      "2023-01-12 13:31:22,685 INFO sqlalchemy.engine.Engine COMMIT\n"
     ]
    },
    {
     "name": "stderr",
     "output_type": "stream",
     "text": [
      "INFO:sqlalchemy.engine.Engine:COMMIT\n"
     ]
    }
   ],
   "source": [
    "from crawling import DiscourseCrawler\n",
    "\n",
    "url, db = forums[0]\n",
    "c = DiscourseCrawler(url,\"sqlite:///../db/\"+db)\n",
    "c.create_db()\n",
    "\n",
    "#start_discourse_crawling(session, )"
   ]
  },
  {
   "cell_type": "code",
   "execution_count": 20,
   "id": "a8f030ab",
   "metadata": {},
   "outputs": [
    {
     "name": "stderr",
     "output_type": "stream",
     "text": [
      "INFO:root:Started crawling forumhttps://forum.cientopolis.org\n",
      "INFO:root:Categories: dict_keys(['can_create_category', 'can_create_topic', 'categories'])\n",
      "INFO:root:Categories committed to db\n",
      "INFO:root:Crawling category 6\n",
      "INFO:root:Crawling page 0\n",
      "INFO:root:Page 0 and their topics committed to db\n",
      "INFO:root:Started crawling the topics in this page\n",
      "INFO:root:Crawling topic 389\n",
      "INFO:root:Crawling topic 348\n",
      "INFO:root:Crawling topic 334\n",
      "INFO:root:Rate limited, sleeping for 0 seconds\n",
      "INFO:root:Crawling topic 285\n",
      "INFO:root:Rate limited, sleeping for 0 seconds\n",
      "INFO:root:Crawling topic 284\n",
      "INFO:root:Crawling topic 17\n",
      "INFO:root:Rate limited, sleeping for 0 seconds\n",
      "INFO:root:Crawling topic 255\n",
      "INFO:root:Rate limited, sleeping for 0 seconds\n",
      "INFO:root:Crawling topic 252\n",
      "INFO:root:Rate limited, sleeping for 0 seconds\n",
      "INFO:root:Crawling topic 229\n",
      "INFO:root:Rate limited, sleeping for 0 seconds\n",
      "INFO:root:Crawling topic 142\n",
      "INFO:root:Rate limited, sleeping for 0 seconds\n",
      "INFO:root:Crawling topic 187\n",
      "INFO:root:Rate limited, sleeping for 0 seconds\n",
      "INFO:root:Crawling topic 166\n",
      "INFO:root:Rate limited, sleeping for 0 seconds\n",
      "INFO:root:Crawling topic 150\n",
      "INFO:root:Rate limited, sleeping for 0 seconds\n",
      "INFO:root:Crawling topic 155\n",
      "INFO:root:Crawling topic 138\n",
      "INFO:root:Rate limited, sleeping for 0 seconds\n",
      "INFO:root:Crawling topic 145\n",
      "INFO:root:Rate limited, sleeping for 0 seconds\n",
      "INFO:root:Crawling topic 116\n",
      "INFO:root:Rate limited, sleeping for 0 seconds\n",
      "INFO:root:Crawling topic 109\n",
      "INFO:root:Rate limited, sleeping for 0 seconds\n",
      "INFO:root:Crawling topic 97\n",
      "INFO:root:Rate limited, sleeping for 0 seconds\n",
      "INFO:root:Crawling topic 103\n",
      "INFO:root:Rate limited, sleeping for 0 seconds\n",
      "INFO:root:Crawling topic 100\n",
      "INFO:root:Rate limited, sleeping for 0 seconds\n",
      "INFO:root:Crawling topic 102\n",
      "INFO:root:Rate limited, sleeping for 0 seconds\n",
      "INFO:root:Crawling topic 89\n",
      "INFO:root:Rate limited, sleeping for 0 seconds\n",
      "INFO:root:Crawling topic 95\n",
      "INFO:root:Rate limited, sleeping for 0 seconds\n",
      "INFO:root:Crawling topic 92\n",
      "INFO:root:Rate limited, sleeping for 0 seconds\n",
      "INFO:root:Crawling topic 16\n",
      "INFO:root:Rate limited, sleeping for 0 seconds\n",
      "INFO:root:Crawling topic 35\n",
      "INFO:root:Rate limited, sleeping for 0 seconds\n",
      "INFO:root:Crawling topic 18\n",
      "INFO:root:Rate limited, sleeping for 0 seconds\n",
      "INFO:root:Crawling topic 15\n",
      "INFO:root:Rate limited, sleeping for 0 seconds\n",
      "INFO:root:Finished crawling category 6\n",
      "INFO:root:Crawling category 1\n",
      "INFO:root:Crawling page 0\n",
      "INFO:root:Rate limited, sleeping for 0 seconds\n",
      "INFO:root:Page 0 and their topics committed to db\n",
      "INFO:root:Started crawling the topics in this page\n",
      "INFO:root:Crawling topic 416\n",
      "INFO:root:Crawling topic 401\n",
      "INFO:root:Crawling topic 379\n",
      "INFO:root:Rate limited, sleeping for 0 seconds\n",
      "INFO:root:Crawling topic 370\n",
      "INFO:root:Rate limited, sleeping for 0 seconds\n",
      "INFO:root:Crawling topic 354\n",
      "INFO:root:Crawling topic 351\n",
      "INFO:root:Rate limited, sleeping for 0 seconds\n",
      "INFO:root:Crawling topic 350\n",
      "INFO:root:Rate limited, sleeping for 0 seconds\n",
      "INFO:root:Crawling topic 341\n",
      "INFO:root:Crawling topic 327\n",
      "INFO:root:Rate limited, sleeping for 0 seconds\n",
      "INFO:root:Crawling topic 335\n",
      "INFO:root:Rate limited, sleeping for 0 seconds\n",
      "INFO:root:Crawling topic 330\n",
      "INFO:root:Crawling topic 323\n",
      "INFO:root:Rate limited, sleeping for 0 seconds\n",
      "INFO:root:Crawling topic 322\n",
      "INFO:root:Rate limited, sleeping for 0 seconds\n",
      "INFO:root:Crawling topic 317\n",
      "INFO:root:Rate limited, sleeping for 0 seconds\n",
      "INFO:root:Crawling topic 292\n",
      "INFO:root:Rate limited, sleeping for 0 seconds\n",
      "INFO:root:Crawling topic 215\n",
      "INFO:root:Rate limited, sleeping for 0 seconds\n",
      "INFO:root:Crawling topic 219\n",
      "INFO:root:Rate limited, sleeping for 0 seconds\n",
      "INFO:root:Crawling topic 129\n",
      "INFO:root:Rate limited, sleeping for 0 seconds\n",
      "INFO:root:Crawling topic 190\n",
      "INFO:root:Rate limited, sleeping for 0 seconds\n",
      "INFO:root:Crawling topic 141\n",
      "INFO:root:Rate limited, sleeping for 0 seconds\n",
      "INFO:root:Crawling topic 125\n",
      "INFO:root:Rate limited, sleeping for 0 seconds\n",
      "INFO:root:Crawling topic 90\n",
      "INFO:root:Rate limited, sleeping for 0 seconds\n",
      "INFO:root:Crawling topic 87\n",
      "INFO:root:Rate limited, sleeping for 0 seconds\n",
      "INFO:root:Crawling topic 85\n",
      "INFO:root:Rate limited, sleeping for 0 seconds\n",
      "INFO:root:Finished crawling category 1\n",
      "INFO:root:Crawling category 7\n",
      "INFO:root:Crawling page 0\n",
      "INFO:root:Rate limited, sleeping for 0 seconds\n",
      "INFO:root:Page 0 and their topics committed to db\n",
      "INFO:root:Started crawling the topics in this page\n",
      "INFO:root:Crawling topic 20\n",
      "INFO:root:Crawling topic 413\n",
      "INFO:root:Crawling topic 411\n",
      "INFO:root:Rate limited, sleeping for 0 seconds\n",
      "INFO:root:Crawling topic 408\n",
      "INFO:root:Crawling topic 394\n",
      "INFO:root:Crawling topic 380\n",
      "INFO:root:Rate limited, sleeping for 0 seconds\n",
      "INFO:root:Crawling topic 371\n",
      "INFO:root:Rate limited, sleeping for 0 seconds\n",
      "INFO:root:Crawling topic 369\n",
      "INFO:root:Rate limited, sleeping for 0 seconds\n",
      "INFO:root:Crawling topic 359\n",
      "INFO:root:Rate limited, sleeping for 0 seconds\n",
      "INFO:root:Crawling topic 368\n",
      "INFO:root:Rate limited, sleeping for 0 seconds\n",
      "INFO:root:Crawling topic 358\n",
      "INFO:root:Rate limited, sleeping for 0 seconds\n",
      "INFO:root:Crawling topic 349\n",
      "INFO:root:Rate limited, sleeping for 0 seconds\n",
      "INFO:root:Crawling topic 346\n",
      "INFO:root:Crawling topic 344\n",
      "INFO:root:Crawling topic 336\n",
      "INFO:root:Rate limited, sleeping for 0 seconds\n",
      "INFO:root:Crawling topic 331\n",
      "INFO:root:Crawling topic 198\n",
      "INFO:root:Crawling topic 318\n",
      "INFO:root:Rate limited, sleeping for 0 seconds\n",
      "INFO:root:Crawling topic 312\n",
      "INFO:root:Rate limited, sleeping for 0 seconds\n",
      "INFO:root:Crawling topic 297\n",
      "INFO:root:Crawling topic 299\n",
      "INFO:root:Rate limited, sleeping for 0 seconds\n",
      "INFO:root:Crawling topic 217\n",
      "INFO:root:Rate limited, sleeping for 0 seconds\n",
      "INFO:root:Rate limited, sleeping for 0 seconds\n",
      "INFO:root:Crawling topic 275\n",
      "INFO:root:Rate limited, sleeping for 0 seconds\n",
      "INFO:root:Crawling topic 272\n",
      "INFO:root:Rate limited, sleeping for 0 seconds\n",
      "INFO:root:Crawling topic 269\n",
      "INFO:root:Crawling topic 264\n",
      "INFO:root:Rate limited, sleeping for 0 seconds\n",
      "INFO:root:Crawling topic 263\n",
      "INFO:root:Rate limited, sleeping for 0 seconds\n",
      "INFO:root:Crawling topic 251\n",
      "INFO:root:Rate limited, sleeping for 0 seconds\n",
      "INFO:root:Crawling topic 239\n",
      "INFO:root:Rate limited, sleeping for 0 seconds\n",
      "INFO:root:Crawling topic 232\n",
      "INFO:root:Rate limited, sleeping for 0 seconds\n",
      "INFO:root:Crawling page 1\n",
      "INFO:root:Page 1 and their topics committed to db\n",
      "INFO:root:Started crawling the topics in this page\n",
      "INFO:root:Crawling topic 137\n",
      "INFO:root:Rate limited, sleeping for 0 seconds\n",
      "INFO:root:Crawling topic 185\n",
      "INFO:root:Rate limited, sleeping for 0 seconds\n",
      "INFO:root:Crawling topic 158\n",
      "INFO:root:Crawling topic 93\n",
      "INFO:root:Rate limited, sleeping for 0 seconds\n",
      "INFO:root:Crawling topic 88\n",
      "INFO:root:Rate limited, sleeping for 0 seconds\n",
      "INFO:root:Crawling topic 63\n",
      "INFO:root:Rate limited, sleeping for 0 seconds\n",
      "INFO:root:Crawling topic 81\n",
      "INFO:root:Rate limited, sleeping for 0 seconds\n",
      "INFO:root:Crawling topic 62\n",
      "INFO:root:Rate limited, sleeping for 0 seconds\n",
      "INFO:root:Crawling topic 69\n",
      "INFO:root:Rate limited, sleeping for 0 seconds\n",
      "INFO:root:Crawling topic 57\n",
      "INFO:root:Rate limited, sleeping for 0 seconds\n",
      "INFO:root:Crawling topic 21\n",
      "INFO:root:Rate limited, sleeping for 0 seconds\n",
      "INFO:root:Finished crawling category 7\n",
      "INFO:root:Crawling category 5\n",
      "INFO:root:Crawling page 0\n",
      "INFO:root:Rate limited, sleeping for 0 seconds\n",
      "INFO:root:Page 0 and their topics committed to db\n",
      "INFO:root:Started crawling the topics in this page\n",
      "INFO:root:Crawling topic 14\n",
      "INFO:root:Crawling topic 7\n",
      "INFO:root:Crawling topic 410\n",
      "INFO:root:Rate limited, sleeping for 0 seconds\n",
      "INFO:root:Crawling topic 406\n",
      "INFO:root:Rate limited, sleeping for 0 seconds\n",
      "INFO:root:Crawling topic 403\n",
      "INFO:root:Rate limited, sleeping for 0 seconds\n",
      "INFO:root:Crawling topic 375\n",
      "INFO:root:Rate limited, sleeping for 0 seconds\n",
      "INFO:root:Crawling topic 362\n",
      "INFO:root:Rate limited, sleeping for 0 seconds\n",
      "INFO:root:Crawling topic 118\n",
      "INFO:root:Crawling topic 385\n",
      "INFO:root:Rate limited, sleeping for 0 seconds\n",
      "INFO:root:Crawling topic 28\n",
      "INFO:root:Rate limited, sleeping for 0 seconds\n",
      "INFO:root:Crawling topic 72\n",
      "INFO:root:Rate limited, sleeping for 0 seconds\n",
      "INFO:root:Rate limited, sleeping for 0 seconds\n",
      "INFO:root:Rate limited, sleeping for 0 seconds\n"
     ]
    },
    {
     "name": "stderr",
     "output_type": "stream",
     "text": [
      "INFO:root:Crawling topic 377\n",
      "INFO:root:Crawling topic 310\n",
      "INFO:root:Crawling topic 313\n",
      "INFO:root:Rate limited, sleeping for 0 seconds\n",
      "INFO:root:Crawling topic 309\n",
      "INFO:root:Rate limited, sleeping for 0 seconds\n",
      "INFO:root:Crawling topic 300\n",
      "INFO:root:Crawling topic 298\n",
      "INFO:root:Rate limited, sleeping for 0 seconds\n",
      "INFO:root:Crawling topic 262\n",
      "INFO:root:Rate limited, sleeping for 0 seconds\n",
      "INFO:root:Crawling topic 38\n",
      "INFO:root:Rate limited, sleeping for 0 seconds\n",
      "INFO:root:Crawling topic 281\n",
      "INFO:root:Rate limited, sleeping for 0 seconds\n",
      "INFO:root:Crawling topic 253\n",
      "INFO:root:Rate limited, sleeping for 0 seconds\n",
      "INFO:root:Crawling topic 212\n",
      "INFO:root:Rate limited, sleeping for 0 seconds\n",
      "INFO:root:Crawling topic 230\n",
      "INFO:root:Rate limited, sleeping for 0 seconds\n",
      "INFO:root:Crawling topic 104\n",
      "INFO:root:Crawling topic 202\n",
      "INFO:root:Rate limited, sleeping for 0 seconds\n",
      "INFO:root:Crawling topic 160\n",
      "INFO:root:Rate limited, sleeping for 0 seconds\n",
      "INFO:root:Crawling topic 157\n",
      "INFO:root:Rate limited, sleeping for 0 seconds\n",
      "INFO:root:Crawling topic 143\n",
      "INFO:root:Rate limited, sleeping for 0 seconds\n",
      "INFO:root:Crawling topic 120\n",
      "INFO:root:Rate limited, sleeping for 0 seconds\n",
      "INFO:root:Crawling topic 112\n",
      "INFO:root:Rate limited, sleeping for 0 seconds\n",
      "INFO:root:Crawling page 1\n",
      "INFO:root:Rate limited, sleeping for 0 seconds\n",
      "INFO:root:Page 1 and their topics committed to db\n",
      "INFO:root:Started crawling the topics in this page\n",
      "INFO:root:Crawling topic 27\n",
      "INFO:root:Rate limited, sleeping for 0 seconds\n",
      "INFO:root:Crawling topic 84\n",
      "INFO:root:Crawling topic 30\n",
      "INFO:root:Crawling topic 64\n",
      "INFO:root:Rate limited, sleeping for 0 seconds\n",
      "INFO:root:Crawling topic 67\n",
      "INFO:root:Crawling topic 66\n",
      "INFO:root:Rate limited, sleeping for 0 seconds\n",
      "INFO:root:Crawling topic 23\n",
      "INFO:root:Rate limited, sleeping for 0 seconds\n",
      "INFO:root:Crawling topic 4\n",
      "INFO:root:Finished crawling category 5\n",
      "INFO:root:Crawling category 2\n",
      "INFO:root:Crawling page 0\n",
      "INFO:root:Page 0 and their topics committed to db\n",
      "INFO:root:Started crawling the topics in this page\n",
      "INFO:root:Crawling topic 1\n",
      "INFO:root:Rate limited, sleeping for 0 seconds\n",
      "INFO:root:Crawling topic 337\n",
      "INFO:root:Rate limited, sleeping for 0 seconds\n",
      "INFO:root:Crawling topic 307\n",
      "INFO:root:Rate limited, sleeping for 0 seconds\n",
      "INFO:root:Crawling topic 40\n",
      "INFO:root:Rate limited, sleeping for 0 seconds\n",
      "INFO:root:Finished crawling category 2\n",
      "INFO:root:Crawling category 16\n",
      "INFO:root:Crawling page 0\n",
      "INFO:root:Rate limited, sleeping for 0 seconds\n",
      "INFO:root:Page 0 and their topics committed to db\n",
      "INFO:root:Started crawling the topics in this page\n",
      "INFO:root:Crawling topic 238\n",
      "INFO:root:Rate limited, sleeping for 0 seconds\n",
      "INFO:root:Crawling topic 270\n",
      "INFO:root:Crawling topic 246\n",
      "INFO:root:Rate limited, sleeping for 0 seconds\n",
      "INFO:root:Crawling topic 245\n",
      "INFO:root:Rate limited, sleeping for 0 seconds\n",
      "INFO:root:Finished crawling category 16\n",
      "INFO:root:Crawling category 17\n",
      "INFO:root:Crawling page 0\n",
      "INFO:root:Rate limited, sleeping for 0 seconds\n",
      "INFO:root:Page 0 and their topics committed to db\n",
      "INFO:root:Started crawling the topics in this page\n",
      "INFO:root:Crawling topic 326\n",
      "INFO:root:Rate limited, sleeping for 0 seconds\n",
      "INFO:root:Finished crawling category 17\n",
      "INFO:root:Finished crawling forum https://forum.cientopolis.org\n"
     ]
    }
   ],
   "source": [
    "c.crawl(echo=False)"
   ]
  }
 ],
 "metadata": {
  "kernelspec": {
   "display_name": "Python 3 (ipykernel)",
   "language": "python",
   "name": "python3"
  },
  "language_info": {
   "codemirror_mode": {
    "name": "ipython",
    "version": 3
   },
   "file_extension": ".py",
   "mimetype": "text/x-python",
   "name": "python",
   "nbconvert_exporter": "python",
   "pygments_lexer": "ipython3",
   "version": "3.10.6"
  }
 },
 "nbformat": 4,
 "nbformat_minor": 5
}
